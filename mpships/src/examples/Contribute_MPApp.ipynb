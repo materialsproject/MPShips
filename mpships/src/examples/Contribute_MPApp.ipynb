{
 "cells": [
  {
   "cell_type": "markdown",
   "id": "05efdbaf-bff6-4396-bf71-0aa0c9651863",
   "metadata": {},
   "source": [
    "# Contribute an MP App"
   ]
  },
  {
   "cell_type": "markdown",
   "id": "b62ad645-a811-412f-82b6-0bf5f66abe62",
   "metadata": {},
   "source": [
    "The most important libraries to build an MP app are: dash, dash-mp-components, and crystal toolkit. \n",
    "Depending on how you like to design your app and what components your app need, there are two ways to write it.\n",
    "\n",
    "1. If you want to use existing components from crystal toolkit, such as the structure viewer, band structure viewer, you can subclass `MPComponent` from `ctk`\n",
    "\n",
    "2. If you don't need any ctk components, you just want to write plain dash layout, you can use the Dash [all-in-one component](https://dash.plotly.com/all-in-one-components) convention. \n",
    "\n",
    "In the future, we hope to unite these two methods to be able to use the all-in-one convention interchangeably. But for now, we need to differentiate it. \n",
    "Two examples will be given below for two scenarios.\n"
   ]
  },
  {
   "cell_type": "markdown",
   "id": "56b1a00b-24eb-4863-bc62-8df031007483",
   "metadata": {},
   "source": [
    "## Use crystal toolkit"
   ]
  },
  {
   "cell_type": "markdown",
   "id": "c84ecca7-9cbb-4802-8fd9-029c2ff75e7b",
   "metadata": {},
   "source": [
    "`ctk` comes with an array of components that work well with MSONable objects, such as structures, bandstructures, phonon dispersions, XRD spectrum etc. If your app benefits from any of these components, it is recommended you using the following format. "
   ]
  },
  {
   "cell_type": "markdown",
   "id": "c39c8252-6d4a-485f-aa66-3254a7cd5cda",
   "metadata": {},
   "source": [
    "### Example"
   ]
  },
  {
   "cell_type": "code",
   "execution_count": 24,
   "id": "0bd14e4e-b6f1-46ff-87fe-8b8ba34f320e",
   "metadata": {
    "tags": []
   },
   "outputs": [
    {
     "data": {
      "text/html": [
       "\n",
       "        <iframe\n",
       "            width=\"100%\"\n",
       "            height=\"650\"\n",
       "            src=\"http://127.0.0.1:8050/\"\n",
       "            frameborder=\"0\"\n",
       "            allowfullscreen\n",
       "            \n",
       "        ></iframe>\n",
       "        "
      ],
      "text/plain": [
       "<IPython.lib.display.IFrame at 0x3279398d0>"
      ]
     },
     "metadata": {},
     "output_type": "display_data"
    },
    {
     "data": {
      "application/vnd.jupyter.widget-view+json": {
       "model_id": "2cb481ad51cc42e9920964451286946e",
       "version_major": 2,
       "version_minor": 0
      },
      "text/plain": [
       "Retrieving SummaryDoc documents: 0it [00:00, ?it/s]"
      ]
     },
     "metadata": {},
     "output_type": "display_data"
    }
   ],
   "source": [
    "import dash\n",
    "from dash import html\n",
    "\n",
    "# standard Dash imports for callbacks (interactivity)\n",
    "from dash import Input, Output, no_update, State\n",
    "from pymatgen.core.lattice import Lattice\n",
    "from pymatgen.core.structure import Structure\n",
    "from mp_api.client import MPRester\n",
    "import crystal_toolkit.components as ctc\n",
    "import crystal_toolkit.helpers.layouts as ctl\n",
    "from crystal_toolkit.core.mpcomponent import MPComponent \n",
    "\n",
    "class MyComponent(MPComponent):\n",
    "    def __init__(self, *args, **kwargs):\n",
    "        super().__init__(*args, **kwargs)\n",
    "        # An interactie structure component \n",
    "        # note the usage of self.id(\"my_structure\"), this is important to prevent id name clash \n",
    "        # an interactive ctk component needs to be instantiated in the __init__ function\n",
    "        # now the data property is empty because it doesn't know what structure to display yet\n",
    "        self.structure_component = ctc.StructureMoleculeComponent(id=self.id(\"my_structure\")) \n",
    "\n",
    "    def layout(self):\n",
    "        # A search bar for using mpid \n",
    "        search_input = ctl.Input(placeholder=\"material id\", type=\"text\",id=self.id(\"my_input\"))\n",
    "        button = ctl.Button(\"Search\", id=self.id(\"my_button\"))\n",
    "        message = html.Div(id = self.id(\"my_message\"))\n",
    "        return html.Div([search_input, button, self.structure_component.layout(), message])\n",
    "    \n",
    "    def generate_callbacks(self, app, cache):\n",
    "        super().generate_callbacks(app, cache)\n",
    "        @app.callback(\n",
    "            Output(self.id(\"my_structure\"), \"data\"),\n",
    "            Output(self.id(\"my_message\"), \"children\"),\n",
    "            State(self.id(\"my_input\"), \"value\"), \n",
    "            # we use State here because we don't want the callback to trigger \n",
    "            # everytime a user types text in the field\n",
    "            Input(self.id(\"my_button\"), \"n_clicks\")\n",
    "        )\n",
    "        def update_structure(mpid, n_clicks):\n",
    "            if not n_clicks:\n",
    "                return no_update, no_update\n",
    "            mpr = MPRester()\n",
    "            try:\n",
    "                docs = mpr.materials.summary.search(material_ids=[mpid])\n",
    "            except Exception as e: \n",
    "                return no_update, \"Error finding the structure\"\n",
    "            \n",
    "            if not docs:\n",
    "                return no_update, f\"There is no {mpid}\"\n",
    "            \n",
    "            structure = docs[0].structure\n",
    "            \n",
    "            return structure, \"Found the structure\"\n",
    "            \n",
    "\n",
    "if __name__ == \"__main__\":\n",
    "    app = dash.Dash(__name__)\n",
    "    layout = MyComponent().layout()\n",
    "    ctc.register_crystal_toolkit(app=app, layout=layout, cache=None)\n",
    "    app.run_server(debug=True, port=8050)"
   ]
  },
  {
   "cell_type": "markdown",
   "id": "6828dd3f-2eeb-4dba-973a-2cfadb28cf0c",
   "metadata": {},
   "source": [
    "# Using dash all-in-one components"
   ]
  },
  {
   "cell_type": "markdown",
   "id": "70c03a75-fc76-4c0f-8b4a-0df727532298",
   "metadata": {},
   "source": [
    "If you don't need `ctk` structure components or other components alike, you can directly use the Dash framework to build your app. Here, we strongly recommend you using the \"all-in-one\" components convention as it is a better choice for our infrastracture."
   ]
  },
  {
   "cell_type": "markdown",
   "id": "bd9ec163-3bed-41e8-add4-a60b6582c68a",
   "metadata": {
    "tags": []
   },
   "source": [
    "### Example"
   ]
  },
  {
   "cell_type": "code",
   "execution_count": 33,
   "id": "53b50974-1bd1-4a5c-b974-e54cfb201400",
   "metadata": {
    "tags": []
   },
   "outputs": [
    {
     "data": {
      "text/html": [
       "\n",
       "        <iframe\n",
       "            width=\"100%\"\n",
       "            height=\"650\"\n",
       "            src=\"http://127.0.0.1:8050/\"\n",
       "            frameborder=\"0\"\n",
       "            allowfullscreen\n",
       "            \n",
       "        ></iframe>\n",
       "        "
      ],
      "text/plain": [
       "<IPython.lib.display.IFrame at 0x3398931f0>"
      ]
     },
     "metadata": {},
     "output_type": "display_data"
    }
   ],
   "source": [
    "\n",
    "from dash import html, dcc, callback, Input, Output, State, MATCH, no_update, dash_table, Patch \n",
    "from dash.exceptions import PreventUpdate\n",
    "import dash_ag_grid as dag\n",
    "import pandas as pd\n",
    "from mp_api.client import MPRester\n",
    "import dash\n",
    "import altair as alt\n",
    "import dash_vega_components as dvc\n",
    "import plotly.graph_objects as go\n",
    "import json\n",
    "import uuid\n",
    "\n",
    "class MPAppAIO(html.Div): # we use the Dash recommended AIO as name convention\n",
    "    # Here, we put all the needed components in a ids class upfront, with a dictionary \n",
    "    # as the name for each. So we can use the \"pattern-matching\" in the callbacks. \n",
    "    class ids:\n",
    "        search_bar = lambda aio:{\n",
    "            \"component\": \"MaterialsGraphAIO\",\n",
    "            \"aio\": aio,\n",
    "            \"subcomponents\": \"searchUIAIO\"\n",
    "        } \n",
    "        quickFilter = lambda aio:{\n",
    "            \"component\": \"MaterialsGraphAIO\",\n",
    "            \"aio\": aio,\n",
    "            \"subcomponents\": \"quickFilter\"\n",
    "        }\n",
    "        button = lambda aio:{\n",
    "            \"component\": \"MaterialsGraphAIO\",\n",
    "            \"aio\": aio,\n",
    "            \"subcomponents\": \"button\"\n",
    "        }\n",
    "        datatable = lambda aio:{\n",
    "            \"component\": \"MaterialsGraphAIO\",\n",
    "            \"aio\": aio,\n",
    "            \"subcomponents\": \"datatable\"\n",
    "        }\n",
    "\n",
    "    # Expose the ids from the class \n",
    "    ids = ids \n",
    "\n",
    "    def __init__(self, id=None, aio=None, **kwargs):\n",
    "        if aio is None:\n",
    "            # Otherwise use a uuid that has virtually no chance of collision.\n",
    "            # Uuids are safe in dash deployments with processes\n",
    "            # because this component's callbacks\n",
    "            # use a stateless pattern-matching callback:\n",
    "            # The actual ID does not matter as long as its unique and matches\n",
    "            # the PMC `MATCH` pattern..\n",
    "            aio = str(uuid.uuid4())\n",
    "        self.aio = aio\n",
    "        self.kwargs = kwargs\n",
    "\n",
    "        searchbar = html.Div(\n",
    "            [\n",
    "            dcc.Input(id=self.ids.search_bar(self.aio), type='text', placeholder='Enter chemical system'),\n",
    "            html.Button('Submit', n_clicks=0,  id=self.ids.button(self.aio))\n",
    "            ]\n",
    "            )\n",
    "        quick_filter = dcc.Input(id=self.ids.quickFilter(self.aio), type='text', placeholder='Quick Filter')\n",
    "\n",
    "        datatable = dag.AgGrid(id=self.ids.datatable(self.aio), dashGridOptions={'pagination':True},)\n",
    "\n",
    "        super().__init__(children=[\n",
    "            searchbar,\n",
    "            quick_filter,\n",
    "            datatable\n",
    "        ], **kwargs)\n",
    "\n",
    "    # callback for update the data table filter value \n",
    "    @callback(\n",
    "        Output(ids.datatable(MATCH), \"dashGridOptions\"),\n",
    "        Input(ids.quickFilter(MATCH), \"value\"),\n",
    "        allow_duplicate=True,\n",
    "    )\n",
    "    def update_filter(filter_value):\n",
    "        newFilter = Patch()\n",
    "        newFilter['quickFilterText'] = filter_value\n",
    "        return newFilter\n",
    "\n",
    "    # callback for updating the content in a table\n",
    "    @callback(\n",
    "        Output(ids.datatable(MATCH), \"rowData\"),\n",
    "        Output(ids.datatable(MATCH), \"columnDefs\"),\n",
    "        Input(ids.button(MATCH), \"n_clicks\"),\n",
    "        State(ids.search_bar(MATCH), \"value\"),\n",
    "        prevent_initial_call=True,\n",
    "        allow_duplicate=True,\n",
    "\n",
    "    )\n",
    "    def update_datatable(n_clicks, value):\n",
    "        if not n_clicks:\n",
    "            return no_update\n",
    "        mpr = MPRester()\n",
    "        docs = mpr.materials.summary.search(chemsys=value)\n",
    "\n",
    "        doc_list = [_clean_dict(doc.model_dump()) for doc in docs]\n",
    "\n",
    "        df = pd.DataFrame(doc_list)\n",
    "        column_defs = [{\"field\": i} for i in df.columns]\n",
    "\n",
    "        return df.to_dict(\"records\"), column_defs\n",
    "\n",
    "# Util function\n",
    "def _clean_dict(d):\n",
    "    \"\"\"\n",
    "    Remove fields with None values or custom object types from the dictionary.\n",
    "    \"\"\"\n",
    "    cleaned_dict = {}\n",
    "    for key, value in d.items():\n",
    "        if value is not None and not isinstance(value, (Structure, dict, Composition, Lattice, list)) :\n",
    "            cleaned_dict[key] = value\n",
    "    return cleaned_dict\n",
    "\n",
    "\n",
    "if __name__ == \"__main__\":\n",
    "    app = dash.Dash(__name__, suppress_callback_exceptions=True, use_pages=False)\n",
    "    app.layout = html.Div(MPAppAIO(aio=\"test\"))\n",
    "    app.run_server(debug=True)"
   ]
  },
  {
   "cell_type": "code",
   "execution_count": null,
   "id": "7f22f475-f499-4192-a814-2434cdf99c3b",
   "metadata": {},
   "outputs": [],
   "source": []
  }
 ],
 "metadata": {
  "kernelspec": {
   "display_name": "newmpweb",
   "language": "python",
   "name": "newmpweb"
  },
  "language_info": {
   "codemirror_mode": {
    "name": "ipython",
    "version": 3
   },
   "file_extension": ".py",
   "mimetype": "text/x-python",
   "name": "python",
   "nbconvert_exporter": "python",
   "pygments_lexer": "ipython3",
   "version": "3.10.0"
  }
 },
 "nbformat": 4,
 "nbformat_minor": 5
}
